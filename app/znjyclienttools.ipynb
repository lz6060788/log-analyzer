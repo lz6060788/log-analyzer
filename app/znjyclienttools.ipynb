{
 "cells": [
  {
   "cell_type": "code",
   "execution_count": null,
   "id": "e9e35953-f8fe-47c4-9910-b75ed2e8bc4e",
   "metadata": {},
   "outputs": [
    {
     "data": {
      "text/markdown": [
       "## <center> 客户端日志分析工具 </center>"
      ],
      "text/plain": [
       "<IPython.core.display.Markdown object>"
      ]
     },
     "metadata": {},
     "output_type": "display_data"
    },
    {
     "data": {
      "application/vnd.jupyter.widget-view+json": {
       "model_id": "cd7d4304fc4242288b0207ac2a038be0",
       "version_major": 2,
       "version_minor": 0
      },
      "text/plain": [
       "Output(layout=Layout(border_bottom='2px solid black', border_left='2px solid black', border_right='2px solid b…"
      ]
     },
     "metadata": {},
     "output_type": "display_data"
    },
    {
     "data": {
      "application/vnd.jupyter.widget-view+json": {
       "model_id": "7b3b1af3440f4bb0a9d4f776e495f04b",
       "version_major": 2,
       "version_minor": 0
      },
      "text/plain": [
       "HBox(children=(FileUpload(value=(), accept='.log', description='1) 上传日志文件', layout=Layout(width='170px'), mult…"
      ]
     },
     "metadata": {},
     "output_type": "display_data"
    },
    {
     "data": {
      "application/vnd.jupyter.widget-view+json": {
       "model_id": "4add071d62c7435380239d34e32ad63a",
       "version_major": 2,
       "version_minor": 0
      },
      "text/plain": [
       "HBox(children=(Output(), Output()))"
      ]
     },
     "metadata": {},
     "output_type": "display_data"
    },
    {
     "data": {
      "application/vnd.jupyter.widget-view+json": {
       "model_id": "5f33e19ca77a4cd99d4a1a9be715db60",
       "version_major": 2,
       "version_minor": 0
      },
      "text/plain": [
       "HBox(children=(Button(button_style='primary', description='4) 请求统计(点一下!)', style=ButtonStyle()), Output()))"
      ]
     },
     "metadata": {},
     "output_type": "display_data"
    },
    {
     "data": {
      "application/vnd.jupyter.widget-view+json": {
       "model_id": "74053dd196244b08881e07d479793742",
       "version_major": 2,
       "version_minor": 0
      },
      "text/plain": [
       "Output(layout=Layout(border_bottom='2px solid black', border_left='2px solid black', border_right='2px solid b…"
      ]
     },
     "metadata": {},
     "output_type": "display_data"
    },
    {
     "data": {
      "application/vnd.jupyter.widget-view+json": {
       "model_id": "fe0fe5861aa64353a7856f20b451b5e0",
       "version_major": 2,
       "version_minor": 0
      },
      "text/plain": [
       "HBox(children=(Checkbox(value=False, description='不限最大行数(默认50)'),))"
      ]
     },
     "metadata": {},
     "output_type": "display_data"
    },
    {
     "data": {
      "application/vnd.jupyter.widget-view+json": {
       "model_id": "999bc1af26c34784b807855c340da68e",
       "version_major": 2,
       "version_minor": 0
      },
      "text/plain": [
       "HBox(children=(Button(button_style='success', description='账户信息', style=ButtonStyle()), Dropdown(description='…"
      ]
     },
     "metadata": {},
     "output_type": "display_data"
    },
    {
     "data": {
      "application/vnd.jupyter.widget-view+json": {
       "model_id": "336a3f4b6d7e4e40ac15b8904c308e7a",
       "version_major": 2,
       "version_minor": 0
      },
      "text/plain": [
       "HBox(children=(Output(),))"
      ]
     },
     "metadata": {},
     "output_type": "display_data"
    },
    {
     "data": {
      "application/vnd.jupyter.widget-view+json": {
       "model_id": "a114b354155c493a8c712c20b27e8b12",
       "version_major": 2,
       "version_minor": 0
      },
      "text/plain": [
       "HBox(children=(Button(button_style='success', description='资金信息', style=ButtonStyle()), Dropdown(description='…"
      ]
     },
     "metadata": {},
     "output_type": "display_data"
    },
    {
     "data": {
      "application/vnd.jupyter.widget-view+json": {
       "model_id": "bb10b05232e444f1b5abee699c01f70b",
       "version_major": 2,
       "version_minor": 0
      },
      "text/plain": [
       "HBox(children=(Output(),))"
      ]
     },
     "metadata": {},
     "output_type": "display_data"
    },
    {
     "data": {
      "application/vnd.jupyter.widget-view+json": {
       "model_id": "9382061ffb264f9587ffd71f0914e4fc",
       "version_major": 2,
       "version_minor": 0
      },
      "text/plain": [
       "HBox(children=(Button(button_style='success', description='持仓信息', style=ButtonStyle()), Dropdown(description='…"
      ]
     },
     "metadata": {},
     "output_type": "display_data"
    },
    {
     "data": {
      "application/vnd.jupyter.widget-view+json": {
       "model_id": "9599583c10694d788b9d55cf2876e63a",
       "version_major": 2,
       "version_minor": 0
      },
      "text/plain": [
       "HBox(children=(Output(),))"
      ]
     },
     "metadata": {},
     "output_type": "display_data"
    },
    {
     "data": {
      "application/vnd.jupyter.widget-view+json": {
       "model_id": "1bab7ec6641440bdad9c05c53507958f",
       "version_major": 2,
       "version_minor": 0
      },
      "text/plain": [
       "HBox(children=(Button(button_style='success', description='委托信息(先点)', style=ButtonStyle()), Dropdown(descripti…"
      ]
     },
     "metadata": {},
     "output_type": "display_data"
    },
    {
     "data": {
      "application/vnd.jupyter.widget-view+json": {
       "model_id": "170f61931ff645e2a930cc746e3bb869",
       "version_major": 2,
       "version_minor": 0
      },
      "text/plain": [
       "HBox(children=(Output(layout=Layout(width='150px')), Button(button_style='success', description='单账户委托汇总', sty…"
      ]
     },
     "metadata": {},
     "output_type": "display_data"
    },
    {
     "data": {
      "application/vnd.jupyter.widget-view+json": {
       "model_id": "846fa2d91cb8440497294d9f289a0f4a",
       "version_major": 2,
       "version_minor": 0
      },
      "text/plain": [
       "HBox(children=(Output(),))"
      ]
     },
     "metadata": {},
     "output_type": "display_data"
    },
    {
     "data": {
      "application/vnd.jupyter.widget-view+json": {
       "model_id": "b91a1768936643e199c47590392cf129",
       "version_major": 2,
       "version_minor": 0
      },
      "text/plain": [
       "HBox(children=(Button(button_style='success', description='成交信息(先点)', style=ButtonStyle()), Dropdown(descripti…"
      ]
     },
     "metadata": {},
     "output_type": "display_data"
    },
    {
     "data": {
      "application/vnd.jupyter.widget-view+json": {
       "model_id": "e85ab46fc329487682fc0dac25a50d62",
       "version_major": 2,
       "version_minor": 0
      },
      "text/plain": [
       "HBox(children=(Output(layout=Layout(width='150px')), Button(button_style='success', description='单账户成交汇总', sty…"
      ]
     },
     "metadata": {},
     "output_type": "display_data"
    },
    {
     "data": {
      "application/vnd.jupyter.widget-view+json": {
       "model_id": "2f1fa7ead8a14642aea2306585bfe2c5",
       "version_major": 2,
       "version_minor": 0
      },
      "text/plain": [
       "HBox(children=(Output(),))"
      ]
     },
     "metadata": {},
     "output_type": "display_data"
    },
    {
     "data": {
      "application/vnd.jupyter.widget-view+json": {
       "model_id": "9689d29214a040ba830cd9af8a6b1e6a",
       "version_major": 2,
       "version_minor": 0
      },
      "text/plain": [
       "HBox(children=(Button(button_style='success', description='可融资标的券', style=ButtonStyle()), Dropdown(description…"
      ]
     },
     "metadata": {},
     "output_type": "display_data"
    },
    {
     "data": {
      "application/vnd.jupyter.widget-view+json": {
       "model_id": "c6aa1279338148d8ba99282830b6dac5",
       "version_major": 2,
       "version_minor": 0
      },
      "text/plain": [
       "HBox(children=(Output(layout=Layout(width='150px')), Text(value='', description='证券代码', placeholder='筛选股票代码'),…"
      ]
     },
     "metadata": {},
     "output_type": "display_data"
    },
    {
     "data": {
      "application/vnd.jupyter.widget-view+json": {
       "model_id": "6ccf8203c4374a2995059d18d0800d75",
       "version_major": 2,
       "version_minor": 0
      },
      "text/plain": [
       "HBox(children=(Output(),))"
      ]
     },
     "metadata": {},
     "output_type": "display_data"
    },
    {
     "data": {
      "application/vnd.jupyter.widget-view+json": {
       "model_id": "8882834560b1435086ccdfa37e122698",
       "version_major": 2,
       "version_minor": 0
      },
      "text/plain": [
       "HBox(children=(Button(button_style='success', description='集中/篮子交易', style=ButtonStyle()), Text(value='', desc…"
      ]
     },
     "metadata": {},
     "output_type": "display_data"
    },
    {
     "data": {
      "application/vnd.jupyter.widget-view+json": {
       "model_id": "a0ac967409524ecf8d1df525cdb4e48b",
       "version_major": 2,
       "version_minor": 0
      },
      "text/plain": [
       "HBox(children=(Output(layout=Layout(width='150px')), Button(button_style='success', description='母单详情', style=…"
      ]
     },
     "metadata": {},
     "output_type": "display_data"
    },
    {
     "data": {
      "application/vnd.jupyter.widget-view+json": {
       "model_id": "db7e47c4f92244a28c056a63c504960d",
       "version_major": 2,
       "version_minor": 0
      },
      "text/plain": [
       "HBox(children=(Output(layout=Layout(width='150px')), Button(button_style='warning', description='清除母单列表', styl…"
      ]
     },
     "metadata": {},
     "output_type": "display_data"
    },
    {
     "data": {
      "application/vnd.jupyter.widget-view+json": {
       "model_id": "77f43d35391546e793e12b34e50169af",
       "version_major": 2,
       "version_minor": 0
      },
      "text/plain": [
       "HBox(children=(Output(),))"
      ]
     },
     "metadata": {},
     "output_type": "display_data"
    },
    {
     "data": {
      "application/vnd.jupyter.widget-view+json": {
       "model_id": "3b476ee9265f4180928072f45716a4e5",
       "version_major": 2,
       "version_minor": 0
      },
      "text/plain": [
       "HBox(children=(Output(),))"
      ]
     },
     "metadata": {},
     "output_type": "display_data"
    },
    {
     "data": {
      "application/vnd.jupyter.widget-view+json": {
       "model_id": "886670f9d56c4ef7ba25409984f1d7f7",
       "version_major": 2,
       "version_minor": 0
      },
      "text/plain": [
       "HBox(children=(Output(),))"
      ]
     },
     "metadata": {},
     "output_type": "display_data"
    },
    {
     "data": {
      "application/vnd.jupyter.widget-view+json": {
       "model_id": "0208e089f04348a69d4e80393f28bbb1",
       "version_major": 2,
       "version_minor": 0
      },
      "text/plain": [
       "HBox(children=(Button(button_style='success', description='算法交易', style=ButtonStyle()), Text(value='', descrip…"
      ]
     },
     "metadata": {},
     "output_type": "display_data"
    },
    {
     "data": {
      "application/vnd.jupyter.widget-view+json": {
       "model_id": "28bbae7eea27430fbc368e808f0ee105",
       "version_major": 2,
       "version_minor": 0
      },
      "text/plain": [
       "HBox(children=(Output(layout=Layout(width='150px')), Button(button_style='success', description='母单详情', style=…"
      ]
     },
     "metadata": {},
     "output_type": "display_data"
    },
    {
     "data": {
      "application/vnd.jupyter.widget-view+json": {
       "model_id": "ff7c8f3b263a4eb9a25c5887d1a5ad46",
       "version_major": 2,
       "version_minor": 0
      },
      "text/plain": [
       "HBox(children=(Output(layout=Layout(width='150px')), Button(button_style='warning', description='清除母单列表', styl…"
      ]
     },
     "metadata": {},
     "output_type": "display_data"
    },
    {
     "data": {
      "application/vnd.jupyter.widget-view+json": {
       "model_id": "1dee230c1d4c4a43b89c319d66bc7809",
       "version_major": 2,
       "version_minor": 0
      },
      "text/plain": [
       "HBox(children=(Output(),))"
      ]
     },
     "metadata": {},
     "output_type": "display_data"
    },
    {
     "data": {
      "application/vnd.jupyter.widget-view+json": {
       "model_id": "497bdb0258cc47d6b70ae162adefb873",
       "version_major": 2,
       "version_minor": 0
      },
      "text/plain": [
       "HBox(children=(Output(),))"
      ]
     },
     "metadata": {},
     "output_type": "display_data"
    },
    {
     "data": {
      "application/vnd.jupyter.widget-view+json": {
       "model_id": "a881757ffdd94efbace82ad4a4fe3a01",
       "version_major": 2,
       "version_minor": 0
      },
      "text/plain": [
       "HBox(children=(Output(),))"
      ]
     },
     "metadata": {},
     "output_type": "display_data"
    },
    {
     "data": {
      "application/vnd.jupyter.widget-view+json": {
       "model_id": "0e7f1ea2cd5f45ecb740c7f1d7edd924",
       "version_major": 2,
       "version_minor": 0
      },
      "text/plain": [
       "HBox(children=(Output(),))"
      ]
     },
     "metadata": {},
     "output_type": "display_data"
    },
    {
     "data": {
      "application/vnd.jupyter.widget-view+json": {
       "model_id": "a7c2cd00a48743a9bb10cdcd6056de51",
       "version_major": 2,
       "version_minor": 0
      },
      "text/plain": [
       "HBox(children=(Button(button_style='success', description='条件交易', style=ButtonStyle()), Text(value='', descrip…"
      ]
     },
     "metadata": {},
     "output_type": "display_data"
    },
    {
     "data": {
      "application/vnd.jupyter.widget-view+json": {
       "model_id": "991e368bccc7407e8a8f562c50c7a6e2",
       "version_major": 2,
       "version_minor": 0
      },
      "text/plain": [
       "HBox(children=(Output(layout=Layout(width='150px')), Button(button_style='success', description='原始请求', style=…"
      ]
     },
     "metadata": {},
     "output_type": "display_data"
    },
    {
     "data": {
      "application/vnd.jupyter.widget-view+json": {
       "model_id": "0a1cdae7f602407a80b7fc61fdb343f8",
       "version_major": 2,
       "version_minor": 0
      },
      "text/plain": [
       "HBox(children=(Output(layout=Layout(width='150px')), Button(button_style='success', description='条件母单详情', styl…"
      ]
     },
     "metadata": {},
     "output_type": "display_data"
    },
    {
     "data": {
      "application/vnd.jupyter.widget-view+json": {
       "model_id": "b97dfd04bb6e4b6887596d1c1af48e36",
       "version_major": 2,
       "version_minor": 0
      },
      "text/plain": [
       "HBox(children=(Output(layout=Layout(width='150px')), Button(button_style='warning', description='清除全部', style=…"
      ]
     },
     "metadata": {},
     "output_type": "display_data"
    },
    {
     "data": {
      "application/vnd.jupyter.widget-view+json": {
       "model_id": "31335cd044234e04b64f691f4837c75a",
       "version_major": 2,
       "version_minor": 0
      },
      "text/plain": [
       "HBox(children=(Output(),))"
      ]
     },
     "metadata": {},
     "output_type": "display_data"
    },
    {
     "data": {
      "application/vnd.jupyter.widget-view+json": {
       "model_id": "49a58be70e8c4862b7dc63991322090a",
       "version_major": 2,
       "version_minor": 0
      },
      "text/plain": [
       "HBox(children=(Output(),))"
      ]
     },
     "metadata": {},
     "output_type": "display_data"
    },
    {
     "data": {
      "application/vnd.jupyter.widget-view+json": {
       "model_id": "68d97fc7defc417da5bffd1b211e2cd8",
       "version_major": 2,
       "version_minor": 0
      },
      "text/plain": [
       "HBox(children=(Output(),))"
      ]
     },
     "metadata": {},
     "output_type": "display_data"
    },
    {
     "data": {
      "application/vnd.jupyter.widget-view+json": {
       "model_id": "b638779080e2407fbb493ca4c91599b5",
       "version_major": 2,
       "version_minor": 0
      },
      "text/plain": [
       "HBox(children=(Output(),))"
      ]
     },
     "metadata": {},
     "output_type": "display_data"
    },
    {
     "data": {
      "application/vnd.jupyter.widget-view+json": {
       "model_id": "2d2e8380195945be8613e950a4b073ac",
       "version_major": 2,
       "version_minor": 0
      },
      "text/plain": [
       "HBox(children=(Output(),))"
      ]
     },
     "metadata": {},
     "output_type": "display_data"
    },
    {
     "data": {
      "application/vnd.jupyter.widget-view+json": {
       "model_id": "62b8f54ae75e408d8857a463e7ea7fed",
       "version_major": 2,
       "version_minor": 0
      },
      "text/plain": [
       "Output(layout=Layout(border_bottom='2px solid black', border_left='2px solid black', border_right='2px solid b…"
      ]
     },
     "metadata": {},
     "output_type": "display_data"
    },
    {
     "data": {
      "application/vnd.jupyter.widget-view+json": {
       "model_id": "4521c5b3be024960a58361d4dfcc4630",
       "version_major": 2,
       "version_minor": 0
      },
      "text/plain": [
       "HBox(children=(Output(),))"
      ]
     },
     "metadata": {},
     "output_type": "display_data"
    },
    {
     "data": {
      "application/vnd.jupyter.widget-view+json": {
       "model_id": "18b16d4467254a98882d4c232d938f05",
       "version_major": 2,
       "version_minor": 0
      },
      "text/plain": [
       "HBox(children=(Text(value='', description='匹配', placeholder='关键字'), Button(button_style='success', description…"
      ]
     },
     "metadata": {},
     "output_type": "display_data"
    },
    {
     "data": {
      "application/vnd.jupyter.widget-view+json": {
       "model_id": "caa5cfcf23f444ed9dd1df14a939130c",
       "version_major": 2,
       "version_minor": 0
      },
      "text/plain": [
       "HBox(children=(Output(),))"
      ]
     },
     "metadata": {},
     "output_type": "display_data"
    }
   ],
   "source": [
    "import json\n",
    "import pandas as pd\n",
    "import time\n",
    "from datetime import datetime\n",
    "from IPython.display import display, Markdown\n",
    "import ipywidgets as widgets\n",
    "\n",
    "import importlib\n",
    "import sys\n",
    "# 动态添加当前工作目录到sys.path，如果还没有添加的话\n",
    "import os\n",
    "current_dir = os.getcwd()\n",
    "if current_dir not in sys.path:\n",
    "    sys.path.append(current_dir)\n",
    "# 尝试重新加载模块，首次运行时忽略错误\n",
    "try:\n",
    "    import clientprocessor\n",
    "    importlib.reload(clientprocessor)  # 如果模块已经存在，则重新加载\n",
    "except ImportError:\n",
    "    import clientprocessor  # 第一次导入模块\n",
    "# 从重新加载（或初次加载）的模块中导入 ClientProcessor 类\n",
    "from clientprocessor import ClientProcessor\n",
    "\n",
    "\n",
    "clientreq = \"\"\n",
    "button_info = widgets.Button(description = \"info\", disabled = False, button_style = \"info\", icon = 'check')\n",
    "button_primary = widgets.Button(description = \"primary\", disabled = False, button_style = \"primary\", icon = 'times')\n",
    "button_warning = widgets.Button(description = \"warning\", disabled = False, button_style = \"warning\")\n",
    "button_danger = widgets.Button(description = \"danger\", disabled = False, button_style = \"danger\")\n",
    "\n",
    "wind_input_text = widgets.Text(placeholder = \"输入全量日志中的请求id\", description = \"原始请求ID\", disabled = False)\n",
    "wind_button_raw_request  = widgets.Button(description = \"请求详情\", disabled = False, button_style = \"success\")\n",
    "wind_button_clear  = widgets.Button(description = \"清除\", disabled = False, button_style = \"warning\")\n",
    "\n",
    "#*******************************************************************************    \n",
    "wind_head = widgets.Label(value = \"日志分析\")\n",
    "wind_fileupload = widgets.FileUpload(accept = \".log\", description = \"1) 上传日志文件\", disabled=False, multiple = True, layout=widgets.Layout(width='170px'))\n",
    "wind_button_analyse = widgets.Button(description = \"2) 日志解析\", disabled = False, button_style = \"success\")\n",
    "button_init = widgets.Button(description = \"3) 初始化(点一下!)\", disabled = False, button_style = \"primary\")\n",
    "button_summary = widgets.Button(description = \"4) 请求统计(点一下!)\", disabled = False, button_style = \"primary\")\n",
    "# 设置控件\n",
    "checkbox_unlimit_table_length = widgets.Checkbox(value=False, description='不限最大行数(默认50)', disabled=False)\n",
    "# 账户查询控件\n",
    "button_account = widgets.Button(description = \"账户信息\", disabled = False, button_style = \"success\")\n",
    "dropdown_querytime_account = widgets.Dropdown(options = [], value = None, description = \"查询时间\", disabled = False)\n",
    "button_clear_account = widgets.Button(description = \"清除账户信息\", disabled = False, button_style = \"warning\")\n",
    "# 资金查询控件\n",
    "button_fund = widgets.Button(description = \"资金信息\", disabled = False, button_style = \"success\")\n",
    "dropdown_fundtoken = widgets.Dropdown(options = [], value = None, description = \"fund_key\", disabled = False)\n",
    "button_clear_fund = widgets.Button(description = \"清除资金信息\", disabled = False, button_style = \"warning\")\n",
    "# 持仓查询控件\n",
    "button_position = widgets.Button(description = \"持仓信息\", disabled = False, button_style = \"success\")\n",
    "button_clear_position = widgets.Button(description = \"清除持仓信息\", disabled = False, button_style = \"warning\")\n",
    "dropdown_fund_position = widgets.Dropdown(options = [], value = None, description = \"fund_key\", disabled = False)\n",
    "dropdown_querytime_position = widgets.Dropdown(options = [], value = None, description = \"查询时间\", disabled = False)\n",
    "# 委托查询控件\n",
    "button_queryorder = widgets.Button(description = \"委托信息(先点)\", disabled = False, button_style = \"success\")\n",
    "button_clear_queryorder = widgets.Button(description = \"清除委托信息\", disabled = False, button_style = \"warning\")\n",
    "dropdown_fund_queryorder = widgets.Dropdown(options = [], value = None, description = \"fund_key\", disabled = False)\n",
    "dropdown_querytime_queryorder = widgets.Dropdown(options = [], value = None, description = \"查询时间\", disabled = False)\n",
    "button_queryorder_summary = widgets.Button(description = \"单账户委托汇总\", disabled = False, button_style = \"success\")\n",
    "button_queryorder_summary_all = widgets.Button(description = \"全账户委托汇总\", disabled = False, button_style = \"success\")\n",
    "# 成交查询控件\n",
    "button_querytrade = widgets.Button(description = \"成交信息(先点)\", disabled = False, button_style = \"success\")\n",
    "button_clear_querytrade = widgets.Button(description = \"清除成交信息\", disabled = False, button_style = \"warning\")\n",
    "dropdown_fund_querytrade = widgets.Dropdown(options = [], value = None, description = \"fund_key\", disabled = False)\n",
    "dropdown_querytime_querytrade = widgets.Dropdown(options = [], value = None, description = \"查询时间\", disabled = False)\n",
    "button_querytrade_summary = widgets.Button(description = \"单账户成交汇总\", disabled = False, button_style = \"success\")\n",
    "button_querytrade_summary_all = widgets.Button(description = \"全账户成交汇总\", disabled = False, button_style = \"success\")\n",
    "checkbox_querytrade_stockfilter = widgets.Checkbox(value=False, description='代码筛选', disabled=False, layout=widgets.Layout(width='180px'))\n",
    "input_code_querytrade = widgets.Text(placeholder = \"筛选股票代码\", description = \"证券代码\", disabled = False, layout=widgets.Layout(width='250px'))\n",
    "\n",
    "# 查询可融资标的券列表控件\n",
    "button_501005 = widgets.Button(description = \"可融资标的券\", disabled = False, button_style = \"success\")\n",
    "button_clear_501005 = widgets.Button(description = \"清除查询信息\", disabled = False, button_style = \"warning\")\n",
    "dropdown_fund_501005 = widgets.Dropdown(options = [], value = None, description = \"fund_key\", disabled = False)\n",
    "dropdown_querytime_501005 = widgets.Dropdown(options = [], value = None, description = \"查询时间\", disabled = False)\n",
    "input_code_501005 = widgets.Text(placeholder = \"筛选股票代码\", description = \"证券代码\", disabled = False)\n",
    "checkbox_501005 = widgets.Checkbox(value=False, description='展示全部股票', disabled=False,\n",
    "                                   style={'description_width': '0px'},\n",
    "                                   layout=widgets.Layout(width='auto', margin='0px 0px 0px 0px'))\n",
    "# 集中/篮子交易控件\n",
    "button_basket = widgets.Button(description = \"集中/篮子交易\", disabled = False, button_style = \"success\")\n",
    "input_basket_instanceid = widgets.Text(placeholder = \"筛选母单instance_id\", description = \"母单\", disabled = False)\n",
    "input_code_basket = widgets.Text(placeholder = \"筛选交易过的股票代码\", description = \"证券代码\", disabled = False, layout=widgets.Layout(width='250px'))\n",
    "input_fund_basket = widgets.Text(placeholder = \"筛选交易过的资金账号\", description = \"资金账号\", disabled = False, layout=widgets.Layout(width='250px'))\n",
    "dropdown_basket_orderid = widgets.Dropdown(options = [], value = None, description = \"子单\", disabled = False)\n",
    "button_basket_filterinstance = widgets.Button(description = \"筛选母单\", disabled = False, button_style = \"success\", layout=widgets.Layout(width='100px'))\n",
    "button_basket_filterorder = widgets.Button(description = \"筛选子单\", disabled = False, button_style = \"success\", layout=widgets.Layout(width='100px'))\n",
    "button_basket_instance_detail = widgets.Button(description = \"母单详情\", disabled = False, button_style = \"success\")\n",
    "button_basketpush = widgets.Button(description = \"当前子单详情\", disabled = False, button_style = \"success\")\n",
    "button_basketpush_all = widgets.Button(description = \"全部子单详情\", disabled = False, button_style = \"success\")\n",
    "button_clear_basket = widgets.Button(description = \"清除母单列表\", disabled = False, button_style = \"warning\")\n",
    "button_clear_basket_all = widgets.Button(description = \"清除全部\", disabled = False, button_style = \"warning\")\n",
    "# 算法交易控件\n",
    "button_algorithm = widgets.Button(description = \"算法交易\", disabled = False, button_style = \"success\")\n",
    "input_algorithm_instanceid = widgets.Text(placeholder = \"筛选母单instance_id\", description = \"母单\", disabled = False)\n",
    "button_algorithm_instance_detail = widgets.Button(description = \"母单详情\", disabled = False, button_style = \"success\")\n",
    "button_algorithm_instance_push = widgets.Button(description = \"母单推送信息\", disabled = False, button_style = \"success\")\n",
    "button_algorithm_order_push = widgets.Button(description = \"委托推送信息\", disabled = False, button_style = \"success\")\n",
    "button_clear_algorithm = widgets.Button(description = \"清除母单列表\", disabled = False, button_style = \"warning\")\n",
    "button_clear_algorithm_push = widgets.Button(description = \"清除推送列表\", disabled = False, button_style = \"warning\")\n",
    "button_clear_algorithm_all = widgets.Button(description = \"清除全部\", disabled = False, button_style = \"warning\")\n",
    "dropdown_querytime_algorithm = widgets.Dropdown(options = [], value = None, description = \"查询时间\", disabled = False)\n",
    "button_query_algorithm = widgets.Button(description = \"查询结果\", disabled = False, button_style = \"success\")\n",
    "# 条件交易控件\n",
    "button_condition = widgets.Button(description = \"条件交易\", disabled = False, button_style = \"success\")\n",
    "input_condition_instanceid = widgets.Text(placeholder = \"筛选母单instance_id\", description = \"母单\", disabled = False)\n",
    "input_condition_fund = widgets.Text(placeholder = \"筛选资金账号\", description = \"资金账号\", disabled = False,\n",
    "                                                style={'description_width': '60px'},\n",
    "                                                layout=widgets.Layout(width='180px', margin='0px 0px 0px 0px'))\n",
    "input_condition_stockcode = widgets.Text(placeholder = \"筛选证券代码\", description = \"证券代码\", disabled = False,\n",
    "                                                style={'description_width': '60px'},\n",
    "                                                layout=widgets.Layout(width='170px', margin='0px 0px 0px 0px'))\n",
    "button_condition_filterinstance = widgets.Button(description = \"筛选母单\", disabled = False, button_style = \"success\", layout=widgets.Layout(width='150px'))\n",
    "button_condition_filterorder = widgets.Button(description = \"筛选子单\", disabled = False, button_style = \"success\", layout=widgets.Layout(width='150px'))\n",
    "button_initreqs_condition = widgets.Button(description = \"原始请求\", disabled = False, button_style = \"success\")\n",
    "checkbox_fullinitreqs_condition = widgets.Checkbox(value=False, description='展示请求原始长度', disabled=False,\n",
    "                                                style={'description_width': '0px'},\n",
    "                                                layout=widgets.Layout(width='auto', margin='0px 0px 0px 0px'))\n",
    "button_clear_initreqs_condition = widgets.Button(description = \"清除原始请求\", disabled = False, button_style = \"warning\")\n",
    "button_condition_instance_detail = widgets.Button(description = \"条件母单详情\", disabled = False, button_style = \"success\")\n",
    "button_condition_order_detail = widgets.Button(description = \"条件子单详情\", disabled = False, button_style = \"success\")\n",
    "button_condition_security_order_detail = widgets.Button(description = \"条件子单个股详情\", disabled = False, button_style = \"success\")\n",
    "button_clear_condition_all = widgets.Button(description = \"清除全部\", disabled = False, button_style = \"warning\")\n",
    "dropdown_querytime_condition = widgets.Dropdown(options = [], value = None, description = \"查询时间\", disabled = False)\n",
    "button_query_condition = widgets.Button(description = \"查询结果\", disabled = False, button_style = \"success\")\n",
    "\n",
    "empty_output = widgets.Output(layout=widgets.Layout(width='150px'))\n",
    "output_err = widgets.Output()\n",
    "output_request_detail = widgets.Output()\n",
    "output_summary = widgets.Output()\n",
    "output_account = widgets.Output()\n",
    "output_fundtoken_dict = widgets.Output()\n",
    "output_fund_dict = widgets.Output()\n",
    "output_fund = widgets.Output()\n",
    "output_position = widgets.Output()\n",
    "output_queryorder = widgets.Output()\n",
    "output_querytrade = widgets.Output()\n",
    "output_501005 = widgets.Output()\n",
    "output_basket = widgets.Output()\n",
    "output_basketfilter = widgets.Output()\n",
    "# output_basketpush = widgets.Output(layout=widgets.Layout(height='600px'))\n",
    "output_basketpush = widgets.Output()\n",
    "output_algorithm = widgets.Output()\n",
    "output_algorithm_filter = widgets.Output()\n",
    "output_algorithm_instance_push = widgets.Output()\n",
    "output_algorithm_order_push = widgets.Output()\n",
    "output_condition_initreqs = widgets.Output()\n",
    "output_condition = widgets.Output()\n",
    "output_condition_instance_detail = widgets.Output()\n",
    "output_condition_order_detail = widgets.Output()\n",
    "output_condition_order_security_detail = widgets.Output()\n",
    "\n",
    "#*******************************************************************************    \n",
    "        \n",
    "def on_wind_button_raw_request(b):\n",
    "    req_id = wind_input_text.value.strip()\n",
    "    output_request_detail.clear_output()\n",
    "    with output_request_detail:\n",
    "        clientreq.show_request_and_response(req_id)\n",
    "\n",
    "\n",
    "def on_wind_button_clear(b):\n",
    "    wind_input_text.value = \"\"\n",
    "    output_request_detail.clear_output()\n",
    "    \n",
    "    \n",
    "def on_button_summary(b):\n",
    "    output_summary.clear_output()\n",
    "    with output_summary:\n",
    "        print('userid:%s, username:%s' % (clientreq.userid, json.dumps(clientreq.username)))\n",
    "        print(\"日志起始时间:%s\" % clientreq.log_begin_time)\n",
    "        print(\"日志结束时间:%s\" % clientreq.log_end_time)\n",
    "        clientreq.show_request_statics()\n",
    "\n",
    "#*******************************************************************************\n",
    "\n",
    "def on_wind_button_analyse(b):\n",
    "    output_err.clear_output()\n",
    "    with output_err:\n",
    "        if not wind_fileupload.value:\n",
    "            return print(\"error:\", \"请上传日志文件\")\n",
    "        tmpfile = \"tmp.log\"\n",
    "        stime = time.perf_counter()\n",
    "        with open(tmpfile, \"wb\") as f:\n",
    "            for file in wind_fileupload.value:\n",
    "                print(\"加载文件\", file.name, \"文件大小\", len(file.content))\n",
    "                f.write(file.content)\n",
    "        try:\n",
    "            global clientreq\n",
    "            clientreq = ClientProcessor([tmpfile])\n",
    "            clientreq.parse()\n",
    "            print(\"解析完成\", \"解析失败日志行数:\", len(clientreq.illegal_reqs))\n",
    "            print(\"跳过不处理的日志行数:\", len(clientreq.skipped_reqs))\n",
    "        except Exception as e:\n",
    "            print(\"解析出错\", e)\n",
    "        usetime = time.perf_counter() - stime\n",
    "        print(\"处理耗时:\", usetime)\n",
    "\n",
    "\n",
    "def on_button_init(b):\n",
    "    output_fundtoken_dict.clear_output()\n",
    "    output_fund_dict.clear_output()\n",
    "    clientreq.handle_account_query()\n",
    "    clientreq.handle_basket_order_push()\n",
    "    clientreq.handle_algorithm_push()\n",
    "    with output_fundtoken_dict:\n",
    "        display(\"fundtoken_dict\", clientreq.fundtoken_dict)\n",
    "        display(\"*\"*50)\n",
    "        display(\"client_fundtoken_mapping\", clientreq.client_fundtoken_mapping)\n",
    "        display(\"*\"*50)\n",
    "        dict_permissioncode = {\"普通股票（沪深A股）\":1, \"港股通\":2, \"大宗交易\":4, \"融资计算\":8}\n",
    "        display(\"client_permissioncode_mapping\", dict_permissioncode, clientreq.client_permissioncode_mapping)\n",
    "        display(\"*\"*50)\n",
    "    with output_fund_dict:\n",
    "        display(\"fund_dict\", clientreq.fund_dict)\n",
    "\n",
    "\n",
    "def on_button_account(b):\n",
    "    dropdown_querytime_account.options = []\n",
    "    dropdown_querytime_account.value = None\n",
    "    output_account.clear_output()\n",
    "    with output_account:\n",
    "        options = [req_time for req_time in clientreq.query_accounts_df]\n",
    "        dropdown_querytime_account.options = options\n",
    "        dropdown_querytime_account.value = options[0]\n",
    "\n",
    "        \n",
    "def on_dropdown_querytime_account_change(change):\n",
    "    output_account.clear_output()\n",
    "    with output_account:\n",
    "        selected_value = change[\"new\"]\n",
    "        print(selected_value)\n",
    "        df_user_account = clientreq.handle_account_query(selected_value)\n",
    "        display(df_user_account)\n",
    "\n",
    "\n",
    "def on_button_clear_account(b):\n",
    "    dropdown_querytime_account.options = []\n",
    "    dropdown_querytime_account.value = None\n",
    "    output_account.clear_output()\n",
    "    output_fundtoken_dict.clear_output()\n",
    "    output_fund_dict.clear_output()\n",
    "\n",
    "\n",
    "def on_button_fund(b):\n",
    "    dropdown_fundtoken.options = []\n",
    "    dropdown_fundtoken.value = None\n",
    "    output_fund.clear_output()\n",
    "    with output_fund:\n",
    "        clientreq.handle_fund_query()\n",
    "        options = [key for key in clientreq.query_fund_df]\n",
    "        dropdown_fundtoken.options = options\n",
    "        dropdown_fundtoken.value = options[0]\n",
    "\n",
    "\n",
    "def on_dropdown_fundtoken_change(change):\n",
    "    output_fund.clear_output()\n",
    "    with output_fund:\n",
    "        selected_value = change[\"new\"]\n",
    "        print(selected_value)\n",
    "        df_query_fund = clientreq.query_fund_df[selected_value]\n",
    "        display(df_query_fund)\n",
    "\n",
    "\n",
    "def on_button_clear_fund(b):\n",
    "    dropdown_fundtoken.options = []\n",
    "    dropdown_fundtoken.value = None\n",
    "    output_fund.clear_output()\n",
    "\n",
    "\n",
    "def on_button_position(b):\n",
    "    dropdown_fund_position.options = []\n",
    "    dropdown_fund_position.value = None\n",
    "    output_position.clear_output()\n",
    "    with output_position:\n",
    "        clientreq.handle_position_query()\n",
    "        options = [key for key in clientreq.query_position_df.keys()]\n",
    "        dropdown_fund_position.options = options\n",
    "        dropdown_fund_position.value = options[0]\n",
    "\n",
    "\n",
    "def on_dropdown_fund_position_change(change):\n",
    "    dropdown_querytime_position.options = []\n",
    "    dropdown_querytime_position.value = None\n",
    "    output_position.clear_output()\n",
    "    with output_position:\n",
    "        selected_account = dropdown_fund_position.value\n",
    "        options = [key for key in clientreq.query_position_df[selected_account].keys()]\n",
    "        resorted_options = [item for item in sorted(options, key=lambda item: datetime.strptime(item.split('|')[0], '%Y%m%d %H:%M:%S.%f'), reverse=True)]\n",
    "        dropdown_querytime_position.options = resorted_options\n",
    "        dropdown_querytime_position.value = resorted_options[0]\n",
    "\n",
    "\n",
    "def on_dropdown_querytime_position_change(change):\n",
    "    output_position.clear_output()\n",
    "    with output_position:\n",
    "        selected_account = dropdown_fund_position.value\n",
    "        selected_querytime = dropdown_querytime_position.value\n",
    "        if selected_querytime:\n",
    "            print(selected_account, selected_querytime)\n",
    "            clientreq.show_queryposition(selected_account, selected_querytime)\n",
    "\n",
    "\n",
    "def on_button_clear_position(b):\n",
    "    dropdown_fund_position.options = []\n",
    "    dropdown_fund_position.value = None\n",
    "    dropdown_querytime_position.options = []\n",
    "    dropdown_querytime_position.value = None\n",
    "    output_position.clear_output()\n",
    "\n",
    "\n",
    "def on_button_queryorder(b):\n",
    "    dropdown_fund_queryorder.options = []\n",
    "    dropdown_fund_queryorder.value = None\n",
    "    output_queryorder.clear_output()\n",
    "    with output_queryorder:\n",
    "        clientreq.handle_order_query()\n",
    "        options = [key for key in clientreq.query_order_df.keys()]\n",
    "        dropdown_fund_queryorder.options = options\n",
    "        dropdown_fund_queryorder.value = options[0]\n",
    "\n",
    "def on_dropdown_fund_queryorder_change(change):\n",
    "    dropdown_querytime_queryorder.options = []\n",
    "    dropdown_querytime_queryorder.value = None\n",
    "    output_queryorder.clear_output()\n",
    "    with output_queryorder:\n",
    "        selected_account = dropdown_fund_queryorder.value\n",
    "        options = [key for key in clientreq.query_order_df[selected_account].keys()]\n",
    "        resorted_options = [item for item in sorted(options, key=lambda item: datetime.strptime(item.split('|')[0], '%Y%m%d %H:%M:%S.%f'), reverse=True)]\n",
    "        dropdown_querytime_queryorder.options = resorted_options\n",
    "        dropdown_querytime_queryorder.value = resorted_options[0]\n",
    "\n",
    "\n",
    "def on_dropdown_querytime_queryorder_change(change):\n",
    "    output_queryorder.clear_output()\n",
    "    with output_queryorder:\n",
    "        selected_account = dropdown_fund_queryorder.value\n",
    "        selected_querytime = dropdown_querytime_queryorder.value\n",
    "        if selected_querytime:\n",
    "            print(selected_account, selected_querytime)\n",
    "            clientreq.show_queryorder(selected_account, selected_querytime)\n",
    "\n",
    "\n",
    "def on_button_clear_queryorder(b):\n",
    "    dropdown_fund_queryorder.options = []\n",
    "    dropdown_fund_queryorder.value = None\n",
    "    dropdown_querytime_queryorder.options = []\n",
    "    dropdown_querytime_queryorder.value = None\n",
    "    output_queryorder.clear_output()\n",
    "\n",
    "def on_button_queryorder_summary(b):\n",
    "    output_queryorder.clear_output()\n",
    "    with output_queryorder:\n",
    "        selected_account = dropdown_fund_queryorder.value\n",
    "        print(\"查询账号：\", selected_account)\n",
    "        for query_time, query_data in clientreq.query_order_df[selected_account].items():\n",
    "            print(query_time, len(query_data))\n",
    "\n",
    "\n",
    "def on_button_queryorder_summary_all(b):\n",
    "    output_queryorder.clear_output()\n",
    "    with output_queryorder:\n",
    "        query_order_df = clientreq.query_order_df\n",
    "        column_index = set()\n",
    "        row_index = set()\n",
    "        for fundkey, querydata in query_order_df.items():\n",
    "            for timekey, df_querydata in querydata.items():\n",
    "                timestamp = timekey.split(' ')[1].split('.')[0]\n",
    "                column_index.add(fundkey)\n",
    "                row_index.add(timestamp)\n",
    "        \n",
    "        column_index = list(column_index)\n",
    "        row_index = sorted(list(row_index))\n",
    "        \n",
    "        df = pd.DataFrame(index=row_index, columns=column_index)\n",
    "        for fundkey, querydata in query_order_df.items():\n",
    "            for timekey, df_querydata in querydata.items():\n",
    "                timestamp = timekey.split(' ')[1].split('.')[0]\n",
    "                df.loc[timestamp, fundkey] = len(df_querydata)\n",
    "        \n",
    "        df = df.fillna(0)\n",
    "        df = df.loc[:, (df != 0).any(axis=0)]\n",
    "        df['total'] = df.sum(axis=1)\n",
    "        \n",
    "        cols = df.columns.tolist()\n",
    "        cols = cols[-1:] + cols[:-1]  # 将 'total' 列移到最前面\n",
    "        df = df[cols]\n",
    "        display(df)\n",
    "\n",
    "\n",
    "def on_button_querytrade(b):\n",
    "    dropdown_fund_querytrade.options = []\n",
    "    dropdown_fund_querytrade.value = None\n",
    "    output_querytrade.clear_output()\n",
    "    with output_querytrade:\n",
    "        clientreq.handle_trade_query()\n",
    "        options = [key for key in clientreq.query_trade_df.keys()]\n",
    "        dropdown_fund_querytrade.options = options\n",
    "        dropdown_fund_querytrade.value = options[0]\n",
    "\n",
    "\n",
    "def on_dropdown_fund_querytrade_change(change):\n",
    "    dropdown_querytime_querytrade.options = []\n",
    "    dropdown_querytime_querytrade.value = None\n",
    "    output_querytrade.clear_output()\n",
    "    with output_querytrade:\n",
    "        selected_account = dropdown_fund_querytrade.value\n",
    "        options = [key for key in clientreq.query_trade_df[selected_account].keys()]\n",
    "        resorted_options = [item for item in sorted(options, key=lambda item: datetime.strptime(item.split('|')[0], '%Y%m%d %H:%M:%S.%f'), reverse=True)]\n",
    "        dropdown_querytime_querytrade.options = resorted_options\n",
    "        dropdown_querytime_querytrade.value = resorted_options[0]\n",
    "\n",
    "\n",
    "def on_dropdown_querytime_querytrade_change(change):\n",
    "    output_querytrade.clear_output()\n",
    "    filter_code = \"\"\n",
    "    if checkbox_querytrade_stockfilter.value:\n",
    "        filter_code = input_code_querytrade.value\n",
    "    with output_querytrade:\n",
    "        selected_account = dropdown_fund_querytrade.value\n",
    "        selected_querytime = dropdown_querytime_querytrade.value\n",
    "        if selected_querytime:\n",
    "            clientreq.show_querytrade(selected_account, selected_querytime, filter_code)\n",
    "\n",
    "\n",
    "def on_button_clear_querytrade(b):\n",
    "    dropdown_fund_querytrade.options = []\n",
    "    dropdown_fund_querytrade.value = None\n",
    "    dropdown_querytime_querytrade.options = []\n",
    "    dropdown_querytime_querytrade.value = None\n",
    "    output_querytrade.clear_output()\n",
    "    checkbox_querytrade_stockfilter.value = False\n",
    "    input_code_querytrade.value = ''\n",
    "    \n",
    "def on_button_querytrade_summary(b):\n",
    "    output_querytrade.clear_output()\n",
    "    with output_querytrade:\n",
    "        selected_account = dropdown_fund_querytrade.value\n",
    "        print(\"查询账号：\", selected_account)\n",
    "        for query_time, query_data in clientreq.query_trade_df[selected_account].items():\n",
    "            print(query_time, len(query_data))\n",
    "\n",
    "            \n",
    "def on_button_querytrade_summary_all(b):\n",
    "    output_querytrade.clear_output()\n",
    "    with output_querytrade:\n",
    "        query_trade_df = clientreq.query_trade_df\n",
    "        column_index = set()\n",
    "        row_index = set()\n",
    "        for fundkey, querydata in query_trade_df.items():\n",
    "            for timekey, df_querydata in querydata.items():\n",
    "                timestamp = timekey.split(' ')[1].split('.')[0]\n",
    "                column_index.add(fundkey)\n",
    "                row_index.add(timestamp)\n",
    "        \n",
    "        column_index = list(column_index)\n",
    "        row_index = sorted(list(row_index))\n",
    "        \n",
    "        df = pd.DataFrame(index=row_index, columns=column_index)\n",
    "        for fundkey, querydata in query_trade_df.items():\n",
    "            for timekey, df_querydata in querydata.items():\n",
    "                timestamp = timekey.split(' ')[1].split('.')[0]\n",
    "                df.loc[timestamp, fundkey] = len(df_querydata)\n",
    "        \n",
    "        df = df.fillna(0)\n",
    "        df = df.loc[:, (df != 0).any(axis=0)]\n",
    "        df['total'] = df.sum(axis=1)\n",
    "        \n",
    "        cols = df.columns.tolist()\n",
    "        cols = cols[-1:] + cols[:-1]  # 将 'total' 列移到最前面\n",
    "        df = df[cols]\n",
    "        display(df)\n",
    "\n",
    "\n",
    "def on_button_501005(b):\n",
    "    dropdown_fund_501005.options = []\n",
    "    dropdown_fund_501005.value = None\n",
    "    output_501005.clear_output()\n",
    "    with output_501005:\n",
    "        clientreq.handle_finable_security_query()\n",
    "        options = [key for key in clientreq.query_finable_security_dict.keys()]\n",
    "        dropdown_fund_501005.options = options\n",
    "        dropdown_fund_501005.value = options[0]\n",
    "\n",
    "\n",
    "def on_dropdown_fund_501005_change(change):\n",
    "    dropdown_querytime_501005.options = []\n",
    "    dropdown_querytime_501005.value = None\n",
    "    output_501005.clear_output()\n",
    "    with output_501005:\n",
    "        selected_account = dropdown_fund_501005.value\n",
    "        options = [key for key in clientreq.query_finable_security_dict[selected_account].keys()]\n",
    "        resorted_options = [item for item in sorted(options, key=lambda item: datetime.strptime(item.split('|')[0], '%Y%m%d %H:%M:%S.%f'), reverse=True)]\n",
    "        dropdown_querytime_501005.options = resorted_options\n",
    "        dropdown_querytime_501005.value = resorted_options[0]\n",
    "\n",
    "\n",
    "def on_dropdown_querytime_501005(change):\n",
    "    output_501005.clear_output()\n",
    "    with output_501005:\n",
    "        selected_account = dropdown_fund_501005.value\n",
    "        selected_querytime = dropdown_querytime_501005.value\n",
    "        show_detail = checkbox_501005.value\n",
    "        filter_stockcode = input_code_501005.value\n",
    "        clientreq.show_finable_security(selected_account, selected_querytime, show_detail, filter_stockcode)\n",
    "\n",
    "\n",
    "def on_checkbox_501005(change):\n",
    "    output_501005.clear_output()\n",
    "    with output_501005:\n",
    "        selected_account = dropdown_fund_501005.value\n",
    "        selected_querytime = dropdown_querytime_501005.value\n",
    "        show_detail = checkbox_501005.value\n",
    "        filter_stockcode = input_code_501005.value\n",
    "        clientreq.show_finable_security(selected_account, selected_querytime, show_detail, filter_stockcode)\n",
    "\n",
    "\n",
    "def on_button_clear_501005(b):\n",
    "    dropdown_fund_501005.options = []\n",
    "    dropdown_fund_501005.value = None\n",
    "    dropdown_querytime_501005.options = []\n",
    "    dropdown_querytime_501005.value = None\n",
    "    input_code_501005.value = ''\n",
    "    checkbox_501005.value = False\n",
    "    output_501005.clear_output()\n",
    "\n",
    "\n",
    "def on_button_basket(b):\n",
    "    dropdown_basket_orderid.options = []\n",
    "    dropdown_basket_orderid.value = None\n",
    "    input_basket_instanceid.value = ''\n",
    "    input_code_basket.value = ''\n",
    "    output_basket.clear_output()\n",
    "    output_basketfilter.clear_output()\n",
    "    output_basketpush.clear_output()\n",
    "    with output_basket:\n",
    "        df_basketorder = clientreq.handle_basketorder()\n",
    "        security_list = clientreq.get_basketorder_code()\n",
    "        print(\"涉及交易的股票列表\", security_list)\n",
    "        display(\"母单列表\", df_basketorder)\n",
    "\n",
    "\n",
    "def on_button_basket_filterinstance(b):\n",
    "    if input_code_basket.value != \"\":\n",
    "        stockcode = input_code_basket.value.strip()\n",
    "        dropdown_basket_orderid.options = []\n",
    "        dropdown_basket_orderid.value = None\n",
    "        input_basket_instanceid.value = ''\n",
    "        output_basket.clear_output()\n",
    "        output_basketfilter.clear_output()\n",
    "        output_basketpush.clear_output()\n",
    "        with output_basket:\n",
    "            df_basketorder = clientreq.handle_basketorder(stockcode)\n",
    "            security_list = clientreq.get_basketorder_code()\n",
    "            print(\"涉及交易的股票列表\", security_list)\n",
    "            display(\"筛选母单列表\", df_basketorder)\n",
    "    else:\n",
    "        on_button_basket(b)\n",
    "\n",
    "        \n",
    "def on_button_basket_filterorder(b):\n",
    "    if input_code_basket.value != \"\" or input_fund_basket.value != \"\":\n",
    "        stockcode = input_code_basket.value.strip()\n",
    "        fund = input_fund_basket.value.strip()\n",
    "        dropdown_basket_orderid.options = []\n",
    "        dropdown_basket_orderid.value = None\n",
    "        input_basket_instanceid.value = ''\n",
    "        output_basket.clear_output()\n",
    "        output_basketfilter.clear_output()\n",
    "        output_basketpush.clear_output()\n",
    "        with output_basket:\n",
    "            df_basketorder = clientreq.handle_basketorder(stockcode)\n",
    "            security_list = clientreq.get_basketorder_code()\n",
    "            print(\"涉及交易的股票列表\", security_list)\n",
    "            display(\"筛选母单列表\", df_basketorder)\n",
    "            for instanceid in df_basketorder[\"instanceid\"]:\n",
    "                df_instance_info = df_basketorder[df_basketorder[\"instanceid\"] == instanceid]\n",
    "                display(\"母单信息\", instanceid, df_instance_info)\n",
    "                df_basketorder_detail = clientreq.get_basketorder_detail(instanceid)\n",
    "                display(\"母单委托信息\", df_basketorder_detail)\n",
    "                fundkey_list = df_basketorder_detail.apply(lambda row:row[\"fund_token\"]+\"|\"+row[\"SecurityID\"], axis=1).tolist()\n",
    "                for fund_key in fundkey_list:\n",
    "                    fund_token = fund_key.split('|')[0]\n",
    "                    if fund in clientreq.fundtoken_dict[fund_token]:\n",
    "                        df_basketorder_push = clientreq.get_basketorder_push_detail(instanceid, fund_key)\n",
    "                        print(\"子单详情\", fund_key, clientreq.fundtoken_dict[fund_token])\n",
    "                        print(\"text_list\", list(set(df_basketorder_push[\"Text\"].tolist())))\n",
    "                        display(df_basketorder_push)\n",
    "                print(\"#\"*120)\n",
    "    else:\n",
    "        on_button_basket(b)\n",
    "\n",
    "\n",
    "def on_button_basket_instance_detail(b):\n",
    "    dropdown_basket_orderid.options = []\n",
    "    dropdown_basket_orderid.value = None\n",
    "    output_basketfilter.clear_output()\n",
    "    with output_basketfilter:\n",
    "        instanceid = input_basket_instanceid.value.strip()\n",
    "        if instanceid == \"\":\n",
    "            print(\"母单id为空，请输入母单id筛选母单\")\n",
    "        else:\n",
    "            df_basketorder = clientreq.handle_basketorder()\n",
    "            if not (df_basketorder[\"instanceid\"] == instanceid).any():\n",
    "                print(\"母单id[%s]不存在，请核对后再次输入\" % instanceid)\n",
    "            else:\n",
    "                df_instance_info = df_basketorder[df_basketorder[\"instanceid\"] == instanceid]\n",
    "                display(\"母单信息\", instanceid, df_instance_info)\n",
    "                df_basketorder_detail = clientreq.get_basketorder_detail(instanceid)\n",
    "                display(\"母单委托信息\", df_basketorder_detail)\n",
    "                options = df_basketorder_detail.apply(lambda row:row[\"fund_token\"]+\"|\"+row[\"SecurityID\"], axis=1).tolist()\n",
    "                dropdown_basket_orderid.options = options\n",
    "                dropdown_basket_orderid.value = options[0]\n",
    "\n",
    "\n",
    "def on_dropdown_basket_orderid_change(change):\n",
    "    pass\n",
    "\n",
    "\n",
    "def on_button_basketpush(b):\n",
    "    output_basketpush.clear_output()\n",
    "    with output_basketpush:\n",
    "        fund_key = dropdown_basket_orderid.value\n",
    "        instanceid = input_basket_instanceid.value.strip()\n",
    "        if fund_key != \"\" and instanceid != \"\":\n",
    "            fund_token = fund_key.split('|')[0]\n",
    "            df_basketorder_push = clientreq.get_basketorder_push_detail(instanceid, fund_key)\n",
    "            print(\"子单详情\", fund_key, clientreq.fundtoken_dict[fund_token])\n",
    "            print(\"text_list\", list(set(df_basketorder_push[\"Text\"].tolist())))\n",
    "            display(df_basketorder_push)\n",
    "\n",
    "\n",
    "def on_button_basketpush_all(b):\n",
    "    output_basketpush.clear_output()\n",
    "    with output_basketpush:\n",
    "        instanceid = input_basket_instanceid.value.strip()\n",
    "        for fund_key in dropdown_basket_orderid.options:\n",
    "            fund_token = fund_key.split('|')[0]\n",
    "            df_basketorder_push = clientreq.get_basketorder_push_detail(instanceid, fund_key)\n",
    "            print(\"子单详情\", fund_key, clientreq.fundtoken_dict[fund_token])\n",
    "            print(\"text_list\", list(set(df_basketorder_push[\"Text\"].tolist())))\n",
    "            display(df_basketorder_push)\n",
    "\n",
    "\n",
    "def on_button_clear_basket(b):\n",
    "    output_basket.clear_output()\n",
    "\n",
    "\n",
    "def on_button_clear_basket_all(b):\n",
    "    dropdown_basket_orderid.options = []\n",
    "    dropdown_basket_orderid.value = None\n",
    "    input_basket_instanceid.value = ''\n",
    "    input_code_basket.value = ''\n",
    "    input_fund_basket.value = ''\n",
    "    output_basket.clear_output()\n",
    "    output_basketfilter.clear_output()\n",
    "    output_basketpush.clear_output()\n",
    "\n",
    "\n",
    "def on_button_algorithm(b):\n",
    "    input_algorithm_instanceid.value = \"\"\n",
    "    output_algorithm.clear_output()\n",
    "    output_algorithm_filter.clear_output()\n",
    "    output_algorithm_instance_push.clear_output()\n",
    "    output_algorithm_order_push.clear_output()\n",
    "    dropdown_querytime_algorithm.options = []\n",
    "    dropdown_querytime_algorithm.value = None\n",
    "    with output_algorithm:\n",
    "        df_algorithm = clientreq.handle_algorithm()\n",
    "        security_list = clientreq.get_algorithm_code()\n",
    "        print(\"涉及交易的股票列表\", security_list)\n",
    "        display(\"筛选母单列表\", df_algorithm)\n",
    "\n",
    "\n",
    "def on_button_algorithm_instance_detail(b):\n",
    "    output_algorithm_filter.clear_output()\n",
    "    output_algorithm_instance_push.clear_output()\n",
    "    output_algorithm_order_push.clear_output()\n",
    "    with output_algorithm_filter:\n",
    "        instanceid = input_algorithm_instanceid.value.strip()\n",
    "        if instanceid == \"\":\n",
    "            print(\"母单id为空，请输入母单id\")\n",
    "        else:\n",
    "            df_algorithm = clientreq.handle_algorithm()\n",
    "            if not (df_algorithm[\"inst_id\"] == instanceid).any():\n",
    "                print(\"母单id[%s]不存在，请核对后再次输入\" % instanceid)\n",
    "            else:\n",
    "                df_instance_info = df_algorithm[df_algorithm[\"inst_id\"] == instanceid]\n",
    "                display(\"母单信息\", instanceid, df_instance_info)\n",
    "                df_algorithm_detail = clientreq.get_algorithm_detail(instanceid)\n",
    "                display(\"母单参数信息\", df_algorithm_detail)\n",
    "\n",
    "\n",
    "def on_button_algorithm_instance_push(b):\n",
    "    output_algorithm_instance_push.clear_output()\n",
    "    output_algorithm_order_push.clear_output()\n",
    "    with output_algorithm_instance_push:\n",
    "        instanceid = input_algorithm_instanceid.value.strip()\n",
    "        if instanceid == \"\":\n",
    "            print(\"母单id为空, 请输入母单id\")\n",
    "        else:\n",
    "            push_key, df_algorithm_push = clientreq.get_algorithm_push_detail(instanceid, \"instruction\")\n",
    "            print(\"推送类型:\" + push_key, \" msg_list\", list(set(df_algorithm_push[\"msg\"].tolist())))\n",
    "            display(df_algorithm_push)\n",
    "\n",
    "\n",
    "def on_button_algorithm_order_push(b):\n",
    "    output_algorithm_order_push.clear_output()\n",
    "    with output_algorithm_instance_push:\n",
    "        instanceid = input_algorithm_instanceid.value.strip()\n",
    "        if instanceid == \"\":\n",
    "            print(\"母单id为空，请输入母单id\")\n",
    "        else:\n",
    "            push_key, df_algorithm_push = clientreq.get_algorithm_push_detail(instanceid, \"order\")\n",
    "            print(\"推送类型:\" + push_key, \" msg_list\", list(set(df_algorithm_push[\"msg\"].tolist())))\n",
    "            display(df_algorithm_push)\n",
    "\n",
    "\n",
    "def on_button_query_algorithm(b):\n",
    "    input_algorithm_instanceid.value = \"\"\n",
    "    output_algorithm.clear_output()\n",
    "    output_algorithm_filter.clear_output()\n",
    "    output_algorithm_instance_push.clear_output()\n",
    "    output_algorithm_order_push.clear_output()\n",
    "    dropdown_querytime_algorithm.options = []\n",
    "    dropdown_querytime_algorithm.value = None\n",
    "    with output_algorithm:\n",
    "        clientreq.handle_algorithm()\n",
    "        options = [key for key in clientreq.query_algorithm_df.keys()]\n",
    "        dropdown_querytime_algorithm.options = options\n",
    "        dropdown_querytime_algorithm.value = options[0]\n",
    "\n",
    "\n",
    "def on_dropdown_querytime_algorithm_change(change):\n",
    "    output_algorithm.clear_output()\n",
    "    with output_algorithm:\n",
    "        selected_querytime = dropdown_querytime_algorithm.value\n",
    "        if selected_querytime:\n",
    "            clientreq.show_queryalgorithm(selected_querytime)\n",
    "\n",
    "\n",
    "def on_button_clear_algorithm(b):\n",
    "    input_algorithm_instanceid.value = \"\"\n",
    "    output_algorithm.clear_output()\n",
    "    output_algorithm_filter.clear_output()\n",
    "\n",
    "\n",
    "def on_button_clear_algorithm_push(b):\n",
    "    output_algorithm_instance_push.clear_output()\n",
    "    output_algorithm_order_push.clear_output()\n",
    "\n",
    "\n",
    "def on_button_clear_algorithm_all(b):\n",
    "    input_algorithm_instanceid.value = \"\"\n",
    "    output_algorithm.clear_output()\n",
    "    output_algorithm_filter.clear_output()\n",
    "    output_algorithm_instance_push.clear_output()\n",
    "    output_algorithm_order_push.clear_output()\n",
    "    dropdown_basket_orderid.options = []\n",
    "    dropdown_basket_orderid.value = None\n",
    "\n",
    "\n",
    "def on_button_condition(b):\n",
    "    on_button_clear_condition_all(b)\n",
    "    with output_condition:\n",
    "        clientreq.handle_condition()\n",
    "        clientreq.show_condition_summary()\n",
    "\n",
    "\n",
    "def on_button_condition_filterinstance(b):\n",
    "    # output_condition.clear_output():\n",
    "    with output_condition:\n",
    "        print(\"筛选母单操作\")\n",
    "\n",
    "\n",
    "def on_button_condition_filterorder(b):\n",
    "    with output_condition:\n",
    "        print(\"筛选母单操作\")\n",
    "    \n",
    "\n",
    "def on_button_initreqs_condition(b):\n",
    "    output_condition_initreqs.clear_output()\n",
    "    with output_condition_initreqs:\n",
    "        showfullreqs = checkbox_fullinitreqs_condition.value\n",
    "        instanceid = input_condition_instanceid.value.strip()\n",
    "        clientreq.show_condition_initreqs(instanceid, showfullreqs)\n",
    "\n",
    "\n",
    "def on_button_clear_initreqs_condition(b):\n",
    "    output_condition_initreqs.clear_output()\n",
    "\n",
    "\n",
    "def on_checkbox_fullinitreqs_condition(change):\n",
    "    output_condition_initreqs.clear_output()\n",
    "    with output_condition_initreqs:\n",
    "        showfullreqs = checkbox_fullinitreqs_condition.value\n",
    "        instanceid = input_condition_instanceid.value.strip()\n",
    "        clientreq.show_condition_initreqs(instanceid, showfullreqs)\n",
    "\n",
    "\n",
    "def on_button_condition_instance_detail(b):\n",
    "    output_condition_instance_detail.clear_output()\n",
    "    with output_condition_instance_detail:\n",
    "        instanceid = input_condition_instanceid.value.strip()\n",
    "        fund = input_condition_fund.value.strip()\n",
    "        stockcode = input_condition_stockcode.value.strip()\n",
    "        clientreq.show_condition_instance_detail(instanceid, fund, stockcode)\n",
    "\n",
    "\n",
    "def on_button_condition_order_detail(b):\n",
    "    output_condition_order_detail.clear_output()\n",
    "    with output_condition_order_detail:\n",
    "        instanceid = input_condition_instanceid.value.strip()\n",
    "        clientreq.show_condition_order_detail(instanceid)\n",
    "\n",
    "\n",
    "def on_button_condition_security_order_detail(b):\n",
    "    output_condition_order_security_detail.clear_output()\n",
    "    with output_condition_order_security_detail:\n",
    "        instanceid = input_condition_instanceid.value.strip()\n",
    "        fund = input_condition_fund.value.strip()\n",
    "        stockcode = input_condition_stockcode.value.strip()\n",
    "        clientreq.show_condition_security_order_detail(instanceid, fund, stockcode)\n",
    "\n",
    "    \n",
    "def on_button_query_condition(b):\n",
    "    dropdown_querytime_condition.options = []\n",
    "    dropdown_querytime_condition.value = None\n",
    "    output_condition.clear_output()\n",
    "    with output_condition:\n",
    "        clientreq.handle_condition_query()\n",
    "        options = [key for key in clientreq.query_gradecondition_df.keys()]\n",
    "        dropdown_querytime_condition.options = options\n",
    "        dropdown_querytime_condition.value = options[0]\n",
    "\n",
    "\n",
    "def on_dropdown_querytime_condition_change(change):\n",
    "    output_condition.clear_output()\n",
    "    with output_condition:\n",
    "        selected_querytime = dropdown_querytime_condition.value\n",
    "        if selected_querytime:\n",
    "            clientreq.show_querycondition(selected_querytime)\n",
    "\n",
    "\n",
    "def on_button_clear_condition_all(b):\n",
    "    input_condition_instanceid.value = \"\"\n",
    "    input_condition_fund.value = \"\"\n",
    "    input_condition_stockcode.value = \"\"\n",
    "    dropdown_querytime_condition.options = []\n",
    "    dropdown_querytime_condition.value = None\n",
    "    output_condition.clear_output()\n",
    "    output_condition_initreqs.clear_output()\n",
    "    output_condition_instance_detail.clear_output()\n",
    "    output_condition_order_detail.clear_output()\n",
    "    output_condition_order_security_detail.clear_output()\n",
    "\n",
    "\n",
    "def on_checkbox_unlimit_table_length(change):\n",
    "    is_unlimited = checkbox_unlimit_table_length.value\n",
    "    if is_unlimited:\n",
    "        pd.set_option('display.max_rows', None)\n",
    "    else:\n",
    "        pd.set_option('display.max_rows', 50)\n",
    "\n",
    "\n",
    "#*******************************************************************************\n",
    "\n",
    "wind_button_analyse.on_click(on_wind_button_analyse)\n",
    "wind_button_raw_request.on_click(on_wind_button_raw_request)\n",
    "wind_button_clear.on_click(on_wind_button_clear)\n",
    "button_init.on_click(on_button_init)\n",
    "button_summary.on_click(on_button_summary)\n",
    "\n",
    "# 查账户列表\n",
    "button_account.on_click(on_button_account)\n",
    "dropdown_querytime_account.observe(on_dropdown_querytime_account_change, names = \"value\")\n",
    "button_clear_account.on_click(on_button_clear_account)\n",
    "# 查资金信息\n",
    "button_fund.on_click(on_button_fund)\n",
    "dropdown_fundtoken.observe(on_dropdown_fundtoken_change, names = \"value\")\n",
    "button_clear_fund.on_click(on_button_clear_fund)\n",
    "# 查持仓信息\n",
    "button_position.on_click(on_button_position)\n",
    "dropdown_fund_position.observe(on_dropdown_fund_position_change, names = \"value\")\n",
    "dropdown_querytime_position.observe(on_dropdown_querytime_position_change, names = \"value\")\n",
    "button_clear_position.on_click(on_button_clear_position)\n",
    "# 查委托信息\n",
    "button_queryorder.on_click(on_button_queryorder)\n",
    "dropdown_fund_queryorder.observe(on_dropdown_fund_queryorder_change, names = \"value\")\n",
    "dropdown_querytime_queryorder.observe(on_dropdown_querytime_queryorder_change, names = \"value\")\n",
    "button_clear_queryorder.on_click(on_button_clear_queryorder)\n",
    "button_queryorder_summary.on_click(on_button_queryorder_summary)\n",
    "button_queryorder_summary_all.on_click(on_button_queryorder_summary_all)\n",
    "# 查成交信息\n",
    "button_querytrade.on_click(on_button_querytrade)\n",
    "dropdown_fund_querytrade.observe(on_dropdown_fund_querytrade_change, names = \"value\")\n",
    "dropdown_querytime_querytrade.observe(on_dropdown_querytime_querytrade_change, names = \"value\")\n",
    "button_clear_querytrade.on_click(on_button_clear_querytrade)\n",
    "button_querytrade_summary.on_click(on_button_querytrade_summary)\n",
    "button_querytrade_summary_all.on_click(on_button_querytrade_summary_all)\n",
    "# 查询可融资标的券列表\n",
    "button_501005.on_click(on_button_501005)\n",
    "dropdown_fund_501005.observe(on_dropdown_fund_501005_change, names = \"value\")\n",
    "dropdown_querytime_501005.observe(on_dropdown_querytime_501005, names = \"value\")\n",
    "checkbox_501005.observe(on_checkbox_501005, names = \"value\")\n",
    "button_clear_501005.on_click(on_button_clear_501005)\n",
    "# 集中/篮子交易\n",
    "button_basket.on_click(on_button_basket)\n",
    "button_basket_filterinstance.on_click(on_button_basket_filterinstance)\n",
    "button_basket_filterorder.on_click(on_button_basket_filterorder)\n",
    "button_basket_instance_detail.on_click(on_button_basket_instance_detail)\n",
    "button_basketpush.on_click(on_button_basketpush)\n",
    "button_basketpush_all.on_click(on_button_basketpush_all)\n",
    "dropdown_basket_orderid.observe(on_dropdown_basket_orderid_change, names = \"value\")\n",
    "button_clear_basket.on_click(on_button_clear_basket)\n",
    "button_clear_basket_all.on_click(on_button_clear_basket_all)\n",
    "# 算法交易\n",
    "button_algorithm.on_click(on_button_algorithm)\n",
    "button_algorithm_instance_detail.on_click(on_button_algorithm_instance_detail)\n",
    "button_algorithm_instance_push.on_click(on_button_algorithm_instance_push)\n",
    "button_algorithm_order_push.on_click(on_button_algorithm_order_push)\n",
    "button_clear_algorithm.on_click(on_button_clear_algorithm)\n",
    "button_clear_algorithm_push.on_click(on_button_clear_algorithm_push)\n",
    "button_clear_algorithm_all.on_click(on_button_clear_algorithm_all)\n",
    "button_query_algorithm.on_click(on_button_query_algorithm)\n",
    "dropdown_querytime_algorithm.observe(on_dropdown_querytime_algorithm_change, names = \"value\")\n",
    "# 条件交易\n",
    "button_condition.on_click(on_button_condition)\n",
    "button_condition_filterinstance.on_click(on_button_condition_filterinstance)\n",
    "button_condition_filterorder.on_click(on_button_condition_filterorder)\n",
    "button_initreqs_condition.on_click(on_button_initreqs_condition)\n",
    "button_clear_initreqs_condition.on_click(on_button_clear_initreqs_condition)\n",
    "checkbox_fullinitreqs_condition.observe(on_checkbox_fullinitreqs_condition, names = \"value\")\n",
    "button_condition_instance_detail.on_click(on_button_condition_instance_detail)\n",
    "button_condition_order_detail.on_click(on_button_condition_order_detail)\n",
    "button_condition_security_order_detail.on_click(on_button_condition_security_order_detail)\n",
    "button_query_condition.on_click(on_button_query_condition)\n",
    "button_clear_condition_all.on_click(on_button_clear_condition_all)\n",
    "dropdown_querytime_condition.observe(on_dropdown_querytime_condition_change, names = \"value\")\n",
    "\n",
    "# 设置控件\n",
    "checkbox_unlimit_table_length.observe(on_checkbox_unlimit_table_length, names = \"value\")\n",
    "\n",
    "#******************************************************************************* \n",
    "\n",
    "display(Markdown(\"## <center> 客户端日志分析工具 </center>\"))\n",
    "display(widgets.Output(layout = {\"border\":\"2px solid black\", \"margin\":\"0px 0 20px 0\"}))\n",
    "display(widgets.HBox([wind_fileupload, wind_button_analyse, button_init, output_err]))\n",
    "display(widgets.HBox([output_fundtoken_dict, output_fund_dict]))\n",
    "display(widgets.HBox([button_summary, output_summary]))\n",
    "display(widgets.Output(layout = {\"border\":\"2px solid black\", \"margin\":\"0px 0 20px 0\"}))\n",
    "display(widgets.HBox([checkbox_unlimit_table_length]))\n",
    "# 查账户列表区域\n",
    "display(widgets.HBox([button_account, dropdown_querytime_account, button_clear_account]))\n",
    "display(widgets.HBox([output_account]))\n",
    "# 查资金区域\n",
    "display(widgets.HBox([button_fund, dropdown_fundtoken, button_clear_fund]))\n",
    "display(widgets.HBox([output_fund]))\n",
    "# 查持仓区域\n",
    "display(widgets.HBox([button_position, dropdown_fund_position, dropdown_querytime_position, button_clear_position]))\n",
    "display(widgets.HBox([output_position]))\n",
    "# 查询委托\n",
    "display(widgets.HBox([button_queryorder, dropdown_fund_queryorder, dropdown_querytime_queryorder, button_clear_queryorder]))\n",
    "display(widgets.HBox([empty_output, button_queryorder_summary, button_queryorder_summary_all]))\n",
    "display(widgets.HBox([output_queryorder]))\n",
    "# 查询成交\n",
    "display(widgets.HBox([button_querytrade, dropdown_fund_querytrade, dropdown_querytime_querytrade, button_clear_querytrade]))\n",
    "display(widgets.HBox([empty_output, button_querytrade_summary, button_querytrade_summary_all, checkbox_querytrade_stockfilter, input_code_querytrade]))\n",
    "display(widgets.HBox([output_querytrade]))\n",
    "# 查询可融资标的券列表 501005\n",
    "display(widgets.HBox([button_501005, dropdown_fund_501005, dropdown_querytime_501005, button_clear_501005]))\n",
    "display(widgets.HBox([empty_output, input_code_501005, checkbox_501005]))\n",
    "display(widgets.HBox([output_501005]))\n",
    "# 集中/篮子交易区域 basket\n",
    "display(widgets.HBox([button_basket, input_basket_instanceid, input_code_basket, button_basket_filterinstance, button_basket_filterorder]))\n",
    "display(widgets.HBox([empty_output, button_basket_instance_detail, button_basketpush_all, input_fund_basket]))\n",
    "# display(widgets.HBox([empty_output, dropdown_basket_orderid, button_basketpush]))\n",
    "display(widgets.HBox([empty_output, button_clear_basket, button_clear_basket_all]))\n",
    "display(widgets.HBox([output_basket]))\n",
    "display(widgets.HBox([output_basketfilter]))\n",
    "display(widgets.HBox([output_basketpush]))\n",
    "# 算法交易区域 algorithm\n",
    "display(widgets.HBox([button_algorithm, input_algorithm_instanceid, button_query_algorithm, dropdown_querytime_algorithm]))\n",
    "display(widgets.HBox([empty_output, button_algorithm_instance_detail, button_algorithm_instance_push, button_algorithm_order_push]))\n",
    "display(widgets.HBox([empty_output, button_clear_algorithm, button_clear_algorithm_push, button_clear_algorithm_all]))\n",
    "display(widgets.HBox([output_algorithm]))\n",
    "display(widgets.HBox([output_algorithm_filter]))\n",
    "display(widgets.HBox([output_algorithm_instance_push]))\n",
    "display(widgets.HBox([output_algorithm_order_push]))\n",
    "# 条件交易区域 condition\n",
    "display(widgets.HBox([button_condition, input_condition_instanceid, button_query_condition, dropdown_querytime_condition]))\n",
    "display(widgets.HBox([\n",
    "    empty_output, button_initreqs_condition, checkbox_fullinitreqs_condition, button_clear_initreqs_condition,\n",
    "    input_condition_fund, input_condition_stockcode],\n",
    "    layout=widgets.Layout(\n",
    "        margin='0px',          # 去掉外边距\n",
    "        padding='0px',         # 去掉内边距\n",
    "        grid_gap='5px'         # 设置控件之间的间距（如 5px）\n",
    "    )\n",
    "))\n",
    "display(widgets.HBox([\n",
    "    empty_output, button_condition_instance_detail, button_condition_order_detail, button_condition_security_order_detail,\n",
    "    button_condition_filterinstance, button_condition_filterorder],\n",
    "))\n",
    "display(widgets.HBox([empty_output, button_clear_condition_all]))\n",
    "display(widgets.HBox([output_condition_initreqs]))\n",
    "display(widgets.HBox([output_condition]))\n",
    "display(widgets.HBox([output_condition_instance_detail]))\n",
    "display(widgets.HBox([output_condition_order_detail]))\n",
    "display(widgets.HBox([output_condition_order_security_detail]))\n",
    "# 分割线\n",
    "display(widgets.Output(layout = {\"border\":\"2px solid black\", \"margin\":\"0px 0 20px 0\"}))\n",
    "display(widgets.HBox([wind_input_text, wind_button_raw_request, wind_button_clear]))\n",
    "display(widgets.HBox([output_request_detail]))"
   ]
  }
 ],
 "metadata": {
  "kernelspec": {
   "display_name": "Python 3 (ipykernel)",
   "language": "python",
   "name": "python3"
  },
  "language_info": {
   "codemirror_mode": {
    "name": "ipython",
    "version": 3
   },
   "file_extension": ".py",
   "mimetype": "text/x-python",
   "name": "python",
   "nbconvert_exporter": "python",
   "pygments_lexer": "ipython3",
   "version": "3.8.6"
  }
 },
 "nbformat": 4,
 "nbformat_minor": 5
}
